{
 "cells": [
  {
   "cell_type": "markdown",
   "metadata": {},
   "source": [
    "# 03 - Parse, Transform, and Pickle the reddit r/askscience comments\n",
    "\n",
    "ACQUIRING REDDIT ASKSCIENCE JSON ARCHIVE\n",
    "\n",
    "Before running this notebook, I used a thrid-party tool to download reddit/r/asksceicne content as JOSN files.  I acquired the JSON-ified reddit archive using the 'subredditarchive' tool, available on github at:\n",
    "\n",
    "https://github.com/peoplma/subredditarchive\n",
    "    \n",
    "The subredditarchive tool was run over a few hours on my Macbook Pro to acquire ~ 2 GB JSON data, comprising about 80,000 files.  The JSON was about 380 MB after zip compression.  The complete record of reddit/asksciecne from 2012-2016 was downloaded.\n",
    "   \n",
    "_____________________________________________________\n",
    "\n",
    "BUILDING PYTHON DICTIONARY OF REDDITORS AND COMMENTS   \n",
    "\n",
    "This notebook recursively parses the JSON reccords to generate a python dictonary mapping redditors ('authors') to lists of their comments.  This dictionary is pickled and saved for later use.\n",
    "\n",
    "I transferred the JSON files to an AWS instance and ran the code in this notebook there. "
   ]
  },
  {
   "cell_type": "markdown",
   "metadata": {},
   "source": [
    "### Imports"
   ]
  },
  {
   "cell_type": "code",
   "execution_count": 1,
   "metadata": {
    "collapsed": false
   },
   "outputs": [],
   "source": [
    "import json\n",
    "from collections import defaultdict\n",
    "import os\n",
    "import numpy as np\n",
    "import pickle\n",
    "from sys import getsizeof\n",
    "import matplotlib.pyplot as plt\n",
    "import seaborn as sns\n",
    "import re\n",
    "import string\n",
    "import pandas as pd\n",
    "from copy import deepcopy\n",
    "%matplotlib inline\n"
   ]
  },
  {
   "cell_type": "code",
   "execution_count": 2,
   "metadata": {
    "collapsed": true
   },
   "outputs": [],
   "source": [
    "### Function to parse reddit OP info ('Original Post').  Currently unused."
   ]
  },
  {
   "cell_type": "code",
   "execution_count": 3,
   "metadata": {
    "collapsed": true
   },
   "outputs": [],
   "source": [
    "# For now, function does nothing\n",
    "def parse_op (j):\n",
    "    return None"
   ]
  },
  {
   "cell_type": "markdown",
   "metadata": {},
   "source": [
    "### Functions to clean up the redditor text (same code used in processing abstracts)"
   ]
  },
  {
   "cell_type": "code",
   "execution_count": 4,
   "metadata": {
    "collapsed": true
   },
   "outputs": [],
   "source": [
    "def separate_sentences (s):\n",
    "    s = re.sub('\\.[a-zA-z]', lambda x: x.group(0)[0:-1] + ' ' + x.group(0)[-1], s)\n",
    "    return s\n",
    "\n",
    "def clean_text (s):\n",
    "    try:\n",
    "        s = filter (lambda x: x in string.printable, s) # Remove unprintable weirdness. NO ERR\n",
    "        s = s.strip() #NO ERR\n",
    "        s = separate_sentences (s)\n",
    "    except:\n",
    "        print '******* ERR'\n",
    "        \n",
    "    return s"
   ]
  },
  {
   "cell_type": "markdown",
   "metadata": {},
   "source": [
    "### Recursive function to parse the comment tree\n",
    "\n",
    "The reddit comment tree is a recursive JSON structure.  This function, called recursively, reads the comment tree and returns a dictionary mapping authors (redditors) to lists of all their comments in the document.  The function is originally called on a single reddit post, and then calls itself recursively as it navigates the comment tree."
   ]
  },
  {
   "cell_type": "code",
   "execution_count": 5,
   "metadata": {
    "collapsed": true
   },
   "outputs": [],
   "source": [
    "\n",
    "# Helper function to build a dictionary containing body, body_length, score, and flair_text\n",
    "# for a given comment.  \n",
    "def build_comment_dict (body, score, flair_text, gilded):\n",
    "    body = clean_text (body)\n",
    "    r = {'BODY':body, 'BODY_LEN':len(body), 'SCORE':score, 'FLAIR_TEXT':flair_text, 'GILDED':gilded}\n",
    "    return r\n",
    "\n",
    "#######################################################################\n",
    "\n",
    "# Function to parse the json for a reddit post.\n",
    "# Recursive function -- it calls itself each time child posts are found.\n",
    "\n",
    "# Thie return value, and the argument r, is a dictionary mapping authors\n",
    "# to their comments.  The key is an author, and the values is LIST of\n",
    "# DICTIONARIES.  Each dict in the list describes a single comment.  The \n",
    "# helper function build_comment_dict is called to produce\n",
    "# the dictionary for a single comment.\n",
    "\n",
    "#  NOTE -- this is the overall structure of the JSON doc tree:\n",
    "#  rj[1]['data']['children'][0]['data']['replies']['data']['children']....\n",
    "\n",
    "# Return value is a defaultdict\n",
    "def parse_comment_tree (j, r = defaultdict(list), verbose=False):\n",
    "    if verbose: print '\\n### CALL TO parse_comment_tree ###'\n",
    "    children = j['data']['children']\n",
    "    \n",
    "    for child in children:\n",
    "        data = child['data']\n",
    "        \n",
    "        try:  #Sometimes the author field throws an error\n",
    "            author = data['author']\n",
    "            if verbose: print 'AUTHOR = ' + author\n",
    "\n",
    "            body = data['body']\n",
    "            if verbose: print 'BODY = ' + body[0:min(200, len(body))]\n",
    "\n",
    "            score = data['score']\n",
    "            flair_text = data['author_flair_text']\n",
    "            gilded = data['gilded']\n",
    "\n",
    "            if (not '[deleted]' in author) and (not '[deleted]' in body):\n",
    "                comment_dict = build_comment_dict (body, score, flair_text, gilded) \n",
    "                r [author].append (comment_dict)\n",
    "        except: pass\n",
    "        \n",
    "        try:\n",
    "            if len (child['data']['replies']['data']['children']) > 0:\n",
    "                r = parse_comment_tree (child['data']['replies'], r, verbose)\n",
    "        except: pass\n",
    "        \n",
    "    return r"
   ]
  },
  {
   "cell_type": "markdown",
   "metadata": {},
   "source": [
    "### Function to return total comments for each redditor"
   ]
  },
  {
   "cell_type": "code",
   "execution_count": 6,
   "metadata": {
    "collapsed": false
   },
   "outputs": [],
   "source": [
    "# Given the parsed json dictionary comment_dict, this function generates another dictionary\n",
    "# mapping author name to the total number of comments they have written.\n",
    "\n",
    "def get_n_comments_per_author (comment_dict):\n",
    "    r = defaultdict(int)\n",
    "    for k in comment_dict.keys():\n",
    "        n_comments = len (comment_dict[k])\n",
    "        r[k] = n_comments\n",
    "    return r"
   ]
  },
  {
   "cell_type": "markdown",
   "metadata": {},
   "source": [
    "### Function to limit reddit archive to those redditors that have written at least N comments\n",
    "\n",
    "Also, extract only comment body text (no gilding info, upvote score, etc.)"
   ]
  },
  {
   "cell_type": "code",
   "execution_count": 7,
   "metadata": {
    "collapsed": true
   },
   "outputs": [],
   "source": [
    "def apply_n_comment_floor (comment_dict, n):\n",
    "    r = defaultdict (list)\n",
    "    for author in comment_dict.keys(): # loop on redditors\n",
    "        if len (comment_dict[author]) >= n:\n",
    "            #r [author] = [i['BODY'] for i in comment_dict[author]]\n",
    "            r [author] = comment_dict[author]\n",
    "    return r"
   ]
  },
  {
   "cell_type": "markdown",
   "metadata": {},
   "source": [
    "### Function to build redditor dataframe, including SVD-transformed values for redditors"
   ]
  },
  {
   "cell_type": "code",
   "execution_count": 15,
   "metadata": {
    "collapsed": false
   },
   "outputs": [],
   "source": [
    "# From the redditor dictionary, build a dataframe with the following columns:\n",
    "# AUTHOR\n",
    "# NUMBER OF COMMENTS\n",
    "# TOTAL GILDINGS\n",
    "# AVG COMMENT LENGTH\n",
    "# SVD Transform components for entire corpus of author's comments\n",
    "\n",
    "def build_redditor_df (comment_dict, tfidf_obj, svd_obj, verbose = False):\n",
    "    \n",
    "    r = defaultdict(list)\n",
    "    n = len (comment_dict.keys())\n",
    "    text_concat_list = []  # Empty list.  Each element will be the total concatenated\n",
    "                           # corpus of text for a single redditor.\n",
    "    if verbose: print 'CONCATENATING AND CLENAING COMMENTS....'\n",
    "    for i,k in enumerate (comment_dict.keys()):\n",
    "        if verbose:\n",
    "            if i%200 == 0: print 'AUTHOR ' + str (i) + ' OF ' + str (n)\n",
    "        n_comments = len (comment_dict[k])\n",
    "        avg_comment_len = np.mean ([len(i['BODY']) for i in comment_dict[k]])\n",
    "        n_gildings = np.sum ([i['GILDED'] for i in comment_dict[k]])\n",
    "        text_concat = '  '.join ([i['BODY'] for i in comment_dict[k]])\n",
    "        text_concat = clean_text (text_concat)\n",
    "        text_concat_list.append (text_concat)\n",
    "\n",
    "        r['AUTHOR'].append (k)\n",
    "        r['N_COMMENTS'].append (n_comments)\n",
    "        r['AVG_COMMENT_LENGTH'].append (avg_comment_len)\n",
    "        r['N_GILDINGS'].append (n_gildings)\n",
    "        \n",
    "    \n",
    "    print 'PERFORMING TFIDF VECTORIZATION...'\n",
    "    text_vec = tfidf_obj.transform (text_concat_list)\n",
    "    print 'PERFORMING TRUNCATED SVD TRANSFORM....'\n",
    "    text_svd = svd_obj.transform (text_vec)\n",
    "    print text_svd.shape\n",
    "    \n",
    "    # Generate a list of 1d SVD arrays.  Each list element will be the 200-element np array,\n",
    "    # corresponding to transformed corpus for one redditor\n",
    "    svd_list =  [text_svd[i,:] for i in range (text_svd.shape[0])]\n",
    "    r['SVD'] = svd_list\n",
    "    df = pd.DataFrame (r)\n",
    "    \n",
    "    return df"
   ]
  },
  {
   "cell_type": "markdown",
   "metadata": {},
   "source": [
    "## Main\n",
    "### Parse comment JSON, build python comment dictonary, and pickle"
   ]
  },
  {
   "cell_type": "code",
   "execution_count": 9,
   "metadata": {
    "collapsed": false
   },
   "outputs": [
    {
     "name": "stdout",
     "output_type": "stream",
     "text": [
      "PARSING FILE # 0 OF 80314\n",
      "PARSING FILE # 5000 OF 80314\n",
      "PARSING FILE # 10000 OF 80314\n",
      "PARSING FILE # 15000 OF 80314\n",
      "PARSING FILE # 20000 OF 80314\n",
      "PARSING FILE # 25000 OF 80314\n",
      "PARSING FILE # 30000 OF 80314\n",
      "PARSING FILE # 35000 OF 80314\n",
      "PARSING FILE # 40000 OF 80314\n",
      "PARSING FILE # 45000 OF 80314\n",
      "PARSING FILE # 50000 OF 80314\n",
      "PARSING FILE # 55000 OF 80314\n",
      "PARSING FILE # 60000 OF 80314\n",
      "FAILURE IN LOADING OR READING FILE = t3_1r4ym5.json\n",
      "PARSING FILE # 65000 OF 80314\n",
      "PARSING FILE # 70000 OF 80314\n",
      "PARSING FILE # 75000 OF 80314\n",
      "PARSING FILE # 80000 OF 80314\n"
     ]
    }
   ],
   "source": [
    "#bp_pickles = '/home/ubuntu/KJK/pickles/reddit'\n",
    "#bp_reddit_json = '/home/ubuntu/KJK/reddit_json_all'\n",
    "\n",
    "bp_reddit_json = '/home/ubuntu/proj_asksci/files_in/ask_science_archive'\n",
    "bp_pickles = '/home/ubuntu/proj_asksci/files_out/pickles'\n",
    "fn_out = 'full_askreddit_archive.pkl'\n",
    "\n",
    "# Create output directory, if not present\n",
    "if not os.path.exists (bp_pickles): os.makedirs (bp_pickles)\n",
    "\n",
    "# Get list of all the json files\n",
    "fn_list = os.listdir(bp_reddit_json)\n",
    "fn_list = filter (lambda x: x.lower()[-4:] == 'json', fn_list)\n",
    "\n",
    "r = defaultdict(list)  # Build empty structure to accumulate the comment info\n",
    "for i, fn in enumerate (fn_list):\n",
    "    # Print every 5000th file, to monitor progress\n",
    "    if i%5000 == 0: print 'PARSING FILE # ' + str (i) + ' OF ' + str(len(fn_list))  \n",
    "    fp = os.path.join (bp_reddit_json, fn)\n",
    "    with open (fp) as f:\n",
    "        try:\n",
    "            rj = json.load (f)\n",
    "            op = parse_op (rj[0])  #rj[0] has information about the orginal post, discard for now\n",
    "            r = parse_comment_tree (rj[1], r, verbose = False)\n",
    "        except:\n",
    "            print 'FAILURE IN LOADING OR READING FILE = ' + fn\n",
    "\n",
    "with open (os.path.join (bp_pickles, fn_out), 'w') as f:\n",
    "    pickle.dump (r, f)\n"
   ]
  },
  {
   "cell_type": "code",
   "execution_count": 10,
   "metadata": {
    "collapsed": false
   },
   "outputs": [
    {
     "name": "stdout",
     "output_type": "stream",
     "text": [
      "TOTAL NUMBER OF REDDITORS = 181521\n",
      "TOTAL NUMBER COMMENTS = 899699\n"
     ]
    },
    {
     "data": {
      "image/png": "[encoded data removed]",
      "text/plain": [
       "<matplotlib.figure.Figure at 0x7f6a984ce110>"
      ]
     },
     "metadata": {},
     "output_type": "display_data"
    }
   ],
   "source": [
    "# Build a histogram to estimate the distribution of \"prolific\" redditors --\n",
    "# This histogram gives the number of instances of redditors with\n",
    "# 1-40 comments, 41-80 comments, etc. Note log scale.\n",
    "\n",
    "# The vast majority of askscience redditors have written < 40 comments (leftmost bar)\n",
    "n_comments_list = [len(i) for i in r.values()]\n",
    "dummy = plt.hist (n_comments_list, bins = 60, range = (0,2400), log=True )\n",
    "dummy = plt.ylabel('# Redditors')\n",
    "dummy = plt.xlabel('Comments per Redditor')\n",
    "dummy = plt.title ('Distribution of Comments per Redditor')\n",
    "\n",
    "# Compute the total number of redditors and comments\n",
    "print 'TOTAL NUMBER OF REDDITORS = ' + str(len(r.values()))\n",
    "print 'TOTAL NUMBER COMMENTS = ' + str (sum (n_comments_list))\n"
   ]
  },
  {
   "cell_type": "markdown",
   "metadata": {},
   "source": [
    "### Limit comment archive to \"Prolific Redditors\""
   ]
  },
  {
   "cell_type": "code",
   "execution_count": 11,
   "metadata": {
    "collapsed": false
   },
   "outputs": [
    {
     "name": "stdout",
     "output_type": "stream",
     "text": [
      "TOTAL NUMBER OF PROLIFIC REDDITORS = 2753\n",
      "TOTAL NUMBER COMMENTS AMONG PROLIFIC REDDITORS = 350160\n"
     ]
    }
   ],
   "source": [
    "# Limit to redditors posting 40+ comments.  \n",
    "r_prolific = apply_n_comment_floor (r, n=40)  \n",
    "                                              \n",
    "# Pickle the 'prolific archive'\n",
    "with open (os.path.join (bp_pickles, 'prolific_ask_reddit_archive.pkl'), 'w') as f:\n",
    "    pickle.dump (r_prolific, f)\n",
    "    \n",
    "# Compute the total number of comments in the \"prolific archive\"\n",
    "# (About 40% of comments remain, despite disarding > 98% of authors)\n",
    "total_n_comments = sum ([len(i) for i in r_prolific.values()])\n",
    "print 'TOTAL NUMBER OF PROLIFIC REDDITORS = ' + str (len (r_prolific.values()))\n",
    "print 'TOTAL NUMBER COMMENTS AMONG PROLIFIC REDDITORS = ' + str (total_n_comments)\n"
   ]
  },
  {
   "cell_type": "markdown",
   "metadata": {},
   "source": [
    "### SVD Transformation of /r/askscience content\n",
    "##### Finally, we will build a pandas dataframe that will be used in the Flask app to match a question to the best redditor, using the following steps:\n",
    "    1)  For each prolific redditor, munge all their comments into a single long string.\n",
    "    2)  Use the pickled SVD Transformer (from Notebook 04) to assign a 200-dimensional 'tag' to each redditors content.\n",
    "    3)  Build a big pandas data frame with redditor, SVD-transformed tag, all content, and other miscellaneous info (gildings, etc.).  Pickle this for use by the flask app."
   ]
  },
  {
   "cell_type": "code",
   "execution_count": 16,
   "metadata": {
    "collapsed": false
   },
   "outputs": [
    {
     "name": "stdout",
     "output_type": "stream",
     "text": [
      "Vectorizing and Transforming prolific redditor corpus...\n",
      "CONCATENATING AND CLENAING COMMENTS....\n",
      "AUTHOR 0 OF 2753\n",
      "AUTHOR 200 OF 2753\n",
      "AUTHOR 400 OF 2753\n",
      "AUTHOR 600 OF 2753\n",
      "AUTHOR 800 OF 2753\n",
      "AUTHOR 1000 OF 2753\n",
      "AUTHOR 1200 OF 2753\n",
      "AUTHOR 1400 OF 2753\n",
      "AUTHOR 1600 OF 2753\n",
      "AUTHOR 1800 OF 2753\n",
      "AUTHOR 2000 OF 2753\n",
      "AUTHOR 2200 OF 2753\n",
      "AUTHOR 2400 OF 2753\n",
      "AUTHOR 2600 OF 2753\n",
      "PERFORMING TFIDF VECTORIZATION...\n",
      "PERFORMING TRUNCATED SVD TRANSFORM....\n",
      "(2753, 200)\n",
      "Pickling redditor dataframe...\n",
      "CPU times: user 448 ms, sys: 16 ms, total: 464 ms\n",
      "Wall time: 467 ms\n"
     ]
    }
   ],
   "source": [
    "with open (os.path.join (bp_pickles, 'tfidf_obj.pkl')) as f:\n",
    "    tfidf_obj = pickle.load (f)\n",
    "\n",
    "with open (os.path.join (bp_pickles, 'TruncSVD_200_comp.pkl')) as f:\n",
    "    svd_obj = pickle.load (f)\n",
    "    \n",
    "print 'Vectorizing and Transforming prolific redditor corpus...'\n",
    "df = build_redditor_df (r_prolific, tfidf_obj, svd_obj, verbose = True)\n",
    "\n",
    "with open (os.path.join (bp_pickles, 'df_redditors.pkl'), 'w') as f:\n",
    "    print 'Pickling redditor dataframe...'\n",
    "    %time pickle.dump (df, f)"
   ]
  },
  {
   "cell_type": "code",
   "execution_count": null,
   "metadata": {
    "collapsed": true
   },
   "outputs": [],
   "source": []
  }
 ],
 "metadata": {
  "anaconda-cloud": {},
  "kernelspec": {
   "display_name": "Python [conda root]",
   "language": "python",
   "name": "conda-root-py"
  },
  "language_info": {
   "codemirror_mode": {
    "name": "ipython",
    "version": 2
   },
   "file_extension": ".py",
   "mimetype": "text/x-python",
   "name": "python",
   "nbconvert_exporter": "python",
   "pygments_lexer": "ipython2",
   "version": "2.7.12"
  }
 },
 "nbformat": 4,
 "nbformat_minor": 0
}
